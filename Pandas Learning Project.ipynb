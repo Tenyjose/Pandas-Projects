{
 "cells": [
  {
   "cell_type": "code",
   "execution_count": 1,
   "id": "7ae69c82",
   "metadata": {},
   "outputs": [],
   "source": [
    "import pandas as pd"
   ]
  },
  {
   "cell_type": "code",
   "execution_count": 2,
   "id": "6b9561e9",
   "metadata": {},
   "outputs": [],
   "source": [
    "df=pd.read_csv(\"pandas data/results.csv\",index_col='ResponseId')\n",
    "df_schema=pd.read_csv(\"pandas data/schema.csv\",index_col='qid')"
   ]
  },
  {
   "cell_type": "code",
   "execution_count": 3,
   "id": "5e14bcdf",
   "metadata": {},
   "outputs": [
    {
     "data": {
      "text/html": [
       "<div>\n",
       "<style scoped>\n",
       "    .dataframe tbody tr th:only-of-type {\n",
       "        vertical-align: middle;\n",
       "    }\n",
       "\n",
       "    .dataframe tbody tr th {\n",
       "        vertical-align: top;\n",
       "    }\n",
       "\n",
       "    .dataframe thead th {\n",
       "        text-align: right;\n",
       "    }\n",
       "</style>\n",
       "<table border=\"1\" class=\"dataframe\">\n",
       "  <thead>\n",
       "    <tr style=\"text-align: right;\">\n",
       "      <th></th>\n",
       "      <th>qname</th>\n",
       "      <th>question</th>\n",
       "      <th>force_resp</th>\n",
       "      <th>type</th>\n",
       "      <th>selector</th>\n",
       "    </tr>\n",
       "    <tr>\n",
       "      <th>qid</th>\n",
       "      <th></th>\n",
       "      <th></th>\n",
       "      <th></th>\n",
       "      <th></th>\n",
       "      <th></th>\n",
       "    </tr>\n",
       "  </thead>\n",
       "  <tbody>\n",
       "    <tr>\n",
       "      <th>QID16</th>\n",
       "      <td>S0</td>\n",
       "      <td>&lt;div&gt;&lt;span style=\"font-size:19px;\"&gt;&lt;strong&gt;Hel...</td>\n",
       "      <td>False</td>\n",
       "      <td>DB</td>\n",
       "      <td>TB</td>\n",
       "    </tr>\n",
       "    <tr>\n",
       "      <th>QID12</th>\n",
       "      <td>MetaInfo</td>\n",
       "      <td>Browser Meta Info</td>\n",
       "      <td>False</td>\n",
       "      <td>Meta</td>\n",
       "      <td>Browser</td>\n",
       "    </tr>\n",
       "    <tr>\n",
       "      <th>QID310</th>\n",
       "      <td>Q310</td>\n",
       "      <td>&lt;div&gt;&lt;span style=\"font-size:19px;\"&gt;&lt;strong&gt;You...</td>\n",
       "      <td>False</td>\n",
       "      <td>DB</td>\n",
       "      <td>TB</td>\n",
       "    </tr>\n",
       "    <tr>\n",
       "      <th>QID312</th>\n",
       "      <td>Q120</td>\n",
       "      <td></td>\n",
       "      <td>True</td>\n",
       "      <td>MC</td>\n",
       "      <td>SAVR</td>\n",
       "    </tr>\n",
       "    <tr>\n",
       "      <th>QID1</th>\n",
       "      <td>S1</td>\n",
       "      <td>&lt;span style=\"font-size:22px; font-family: aria...</td>\n",
       "      <td>False</td>\n",
       "      <td>DB</td>\n",
       "      <td>TB</td>\n",
       "    </tr>\n",
       "    <tr>\n",
       "      <th>...</th>\n",
       "      <td>...</td>\n",
       "      <td>...</td>\n",
       "      <td>...</td>\n",
       "      <td>...</td>\n",
       "      <td>...</td>\n",
       "    </tr>\n",
       "    <tr>\n",
       "      <th>QID289</th>\n",
       "      <td>Knowledge_7</td>\n",
       "      <td>Waiting on answers to questions often causes i...</td>\n",
       "      <td>NaN</td>\n",
       "      <td>MC</td>\n",
       "      <td>MAVR</td>\n",
       "    </tr>\n",
       "    <tr>\n",
       "      <th>QID289</th>\n",
       "      <td>Knowledge_8</td>\n",
       "      <td>I feel like I have the tools and/or resources ...</td>\n",
       "      <td>NaN</td>\n",
       "      <td>MC</td>\n",
       "      <td>MAVR</td>\n",
       "    </tr>\n",
       "    <tr>\n",
       "      <th>QID290</th>\n",
       "      <td>Frequency_1</td>\n",
       "      <td>Needing help from people outside of your immed...</td>\n",
       "      <td>NaN</td>\n",
       "      <td>MC</td>\n",
       "      <td>MAVR</td>\n",
       "    </tr>\n",
       "    <tr>\n",
       "      <th>QID290</th>\n",
       "      <td>Frequency_2</td>\n",
       "      <td>Interacting with people outside of your immedi...</td>\n",
       "      <td>NaN</td>\n",
       "      <td>MC</td>\n",
       "      <td>MAVR</td>\n",
       "    </tr>\n",
       "    <tr>\n",
       "      <th>QID290</th>\n",
       "      <td>Frequency_3</td>\n",
       "      <td>Encountering knowledge silos (where one indivi...</td>\n",
       "      <td>NaN</td>\n",
       "      <td>MC</td>\n",
       "      <td>MAVR</td>\n",
       "    </tr>\n",
       "  </tbody>\n",
       "</table>\n",
       "<p>78 rows × 5 columns</p>\n",
       "</div>"
      ],
      "text/plain": [
       "              qname                                           question  \\\n",
       "qid                                                                      \n",
       "QID16            S0  <div><span style=\"font-size:19px;\"><strong>Hel...   \n",
       "QID12      MetaInfo                                  Browser Meta Info   \n",
       "QID310         Q310  <div><span style=\"font-size:19px;\"><strong>You...   \n",
       "QID312         Q120                                                      \n",
       "QID1             S1  <span style=\"font-size:22px; font-family: aria...   \n",
       "...             ...                                                ...   \n",
       "QID289  Knowledge_7  Waiting on answers to questions often causes i...   \n",
       "QID289  Knowledge_8  I feel like I have the tools and/or resources ...   \n",
       "QID290  Frequency_1  Needing help from people outside of your immed...   \n",
       "QID290  Frequency_2  Interacting with people outside of your immedi...   \n",
       "QID290  Frequency_3  Encountering knowledge silos (where one indivi...   \n",
       "\n",
       "       force_resp  type selector  \n",
       "qid                               \n",
       "QID16       False    DB       TB  \n",
       "QID12       False  Meta  Browser  \n",
       "QID310      False    DB       TB  \n",
       "QID312       True    MC     SAVR  \n",
       "QID1        False    DB       TB  \n",
       "...           ...   ...      ...  \n",
       "QID289        NaN    MC     MAVR  \n",
       "QID289        NaN    MC     MAVR  \n",
       "QID290        NaN    MC     MAVR  \n",
       "QID290        NaN    MC     MAVR  \n",
       "QID290        NaN    MC     MAVR  \n",
       "\n",
       "[78 rows x 5 columns]"
      ]
     },
     "execution_count": 3,
     "metadata": {},
     "output_type": "execute_result"
    }
   ],
   "source": [
    "#df\n",
    "df_schema"
   ]
  },
  {
   "cell_type": "code",
   "execution_count": 4,
   "id": "36952c27",
   "metadata": {},
   "outputs": [
    {
     "name": "stdout",
     "output_type": "stream",
     "text": [
      "<class 'pandas.core.frame.DataFrame'>\n",
      "Index: 89184 entries, 1 to 89184\n",
      "Data columns (total 83 columns):\n",
      " #   Column                               Non-Null Count  Dtype  \n",
      "---  ------                               --------------  -----  \n",
      " 0   Q120                                 89184 non-null  object \n",
      " 1   MainBranch                           89184 non-null  object \n",
      " 2   Age                                  89184 non-null  object \n",
      " 3   Employment                           87898 non-null  object \n",
      " 4   RemoteWork                           73810 non-null  object \n",
      " 5   CodingActivities                     73764 non-null  object \n",
      " 6   EdLevel                              87973 non-null  object \n",
      " 7   LearnCode                            87663 non-null  object \n",
      " 8   LearnCodeOnline                      70084 non-null  object \n",
      " 9   LearnCodeCoursesCert                 37076 non-null  object \n",
      " 10  YearsCode                            87435 non-null  object \n",
      " 11  YearsCodePro                         66136 non-null  object \n",
      " 12  DevType                              76872 non-null  object \n",
      " 13  OrgSize                              65043 non-null  object \n",
      " 14  PurchaseInfluence                    64964 non-null  object \n",
      " 15  TechList                             60851 non-null  object \n",
      " 16  BuyNewTool                           83009 non-null  object \n",
      " 17  Country                              87973 non-null  object \n",
      " 18  Currency                             65334 non-null  object \n",
      " 19  CompTotal                            48225 non-null  float64\n",
      " 20  LanguageHaveWorkedWith               87140 non-null  object \n",
      " 21  LanguageWantToWorkWith               80709 non-null  object \n",
      " 22  DatabaseHaveWorkedWith               73435 non-null  object \n",
      " 23  DatabaseWantToWorkWith               60911 non-null  object \n",
      " 24  PlatformHaveWorkedWith               63628 non-null  object \n",
      " 25  PlatformWantToWorkWith               51308 non-null  object \n",
      " 26  WebframeHaveWorkedWith               66938 non-null  object \n",
      " 27  WebframeWantToWorkWith               56741 non-null  object \n",
      " 28  MiscTechHaveWorkedWith               57019 non-null  object \n",
      " 29  MiscTechWantToWorkWith               46848 non-null  object \n",
      " 30  ToolsTechHaveWorkedWith              77884 non-null  object \n",
      " 31  ToolsTechWantToWorkWith              68315 non-null  object \n",
      " 32  NEWCollabToolsHaveWorkedWith         85864 non-null  object \n",
      " 33  NEWCollabToolsWantToWorkWith         76649 non-null  object \n",
      " 34  OpSysPersonal use                    86557 non-null  object \n",
      " 35  OpSysProfessional use                78587 non-null  object \n",
      " 36  OfficeStackAsyncHaveWorkedWith       69090 non-null  object \n",
      " 37  OfficeStackAsyncWantToWorkWith       53743 non-null  object \n",
      " 38  OfficeStackSyncHaveWorkedWith        83439 non-null  object \n",
      " 39  OfficeStackSyncWantToWorkWith        69776 non-null  object \n",
      " 40  AISearchHaveWorkedWith               56328 non-null  object \n",
      " 41  AISearchWantToWorkWith               46150 non-null  object \n",
      " 42  AIDevHaveWorkedWith                  25904 non-null  object \n",
      " 43  AIDevWantToWorkWith                  19587 non-null  object \n",
      " 44  NEWSOSites                           87973 non-null  object \n",
      " 45  SOVisitFreq                          87140 non-null  object \n",
      " 46  SOAccount                            87852 non-null  object \n",
      " 47  SOPartFreq                           66061 non-null  object \n",
      " 48  SOComm                               87692 non-null  object \n",
      " 49  SOAI                                 47858 non-null  object \n",
      " 50  AISelect                             87973 non-null  object \n",
      " 51  AISent                               61501 non-null  object \n",
      " 52  AIAcc                                38594 non-null  object \n",
      " 53  AIBen                                61396 non-null  object \n",
      " 54  AIToolInterested in Using            32783 non-null  object \n",
      " 55  AIToolCurrently Using                36137 non-null  object \n",
      " 56  AIToolNot interested in Using        21069 non-null  object \n",
      " 57  AINextVery different                 12661 non-null  object \n",
      " 58  AINextNeither different nor similar  6599 non-null   object \n",
      " 59  AINextSomewhat similar               6238 non-null   object \n",
      " 60  AINextVery similar                   2621 non-null   object \n",
      " 61  AINextSomewhat different             23303 non-null  object \n",
      " 62  TBranch                              65768 non-null  object \n",
      " 63  ICorPM                               43668 non-null  object \n",
      " 64  WorkExp                              43579 non-null  float64\n",
      " 65  Knowledge_1                          42535 non-null  object \n",
      " 66  Knowledge_2                          41670 non-null  object \n",
      " 67  Knowledge_3                          41798 non-null  object \n",
      " 68  Knowledge_4                          41684 non-null  object \n",
      " 69  Knowledge_5                          41527 non-null  object \n",
      " 70  Knowledge_6                          41520 non-null  object \n",
      " 71  Knowledge_7                          41467 non-null  object \n",
      " 72  Knowledge_8                          41404 non-null  object \n",
      " 73  Frequency_1                          41916 non-null  object \n",
      " 74  Frequency_2                          41925 non-null  object \n",
      " 75  Frequency_3                          41054 non-null  object \n",
      " 76  TimeSearching                        42778 non-null  object \n",
      " 77  TimeAnswering                        42629 non-null  object \n",
      " 78  ProfessionalTech                     41783 non-null  object \n",
      " 79  Industry                             36774 non-null  object \n",
      " 80  SurveyLength                         86485 non-null  object \n",
      " 81  SurveyEase                           86554 non-null  object \n",
      " 82  ConvertedCompYearly                  48019 non-null  float64\n",
      "dtypes: float64(3), object(80)\n",
      "memory usage: 57.2+ MB\n"
     ]
    }
   ],
   "source": [
    "df.info()"
   ]
  },
  {
   "cell_type": "code",
   "execution_count": 5,
   "id": "c3846572",
   "metadata": {},
   "outputs": [
    {
     "data": {
      "text/html": [
       "<div>\n",
       "<style scoped>\n",
       "    .dataframe tbody tr th:only-of-type {\n",
       "        vertical-align: middle;\n",
       "    }\n",
       "\n",
       "    .dataframe tbody tr th {\n",
       "        vertical-align: top;\n",
       "    }\n",
       "\n",
       "    .dataframe thead th {\n",
       "        text-align: right;\n",
       "    }\n",
       "</style>\n",
       "<table border=\"1\" class=\"dataframe\">\n",
       "  <thead>\n",
       "    <tr style=\"text-align: right;\">\n",
       "      <th></th>\n",
       "      <th>Age</th>\n",
       "      <th>Country</th>\n",
       "    </tr>\n",
       "    <tr>\n",
       "      <th>ResponseId</th>\n",
       "      <th></th>\n",
       "      <th></th>\n",
       "    </tr>\n",
       "  </thead>\n",
       "  <tbody>\n",
       "    <tr>\n",
       "      <th>1</th>\n",
       "      <td>18-24 years old</td>\n",
       "      <td>NaN</td>\n",
       "    </tr>\n",
       "    <tr>\n",
       "      <th>2</th>\n",
       "      <td>25-34 years old</td>\n",
       "      <td>United States of America</td>\n",
       "    </tr>\n",
       "    <tr>\n",
       "      <th>3</th>\n",
       "      <td>45-54 years old</td>\n",
       "      <td>United States of America</td>\n",
       "    </tr>\n",
       "    <tr>\n",
       "      <th>4</th>\n",
       "      <td>25-34 years old</td>\n",
       "      <td>United States of America</td>\n",
       "    </tr>\n",
       "    <tr>\n",
       "      <th>5</th>\n",
       "      <td>25-34 years old</td>\n",
       "      <td>Philippines</td>\n",
       "    </tr>\n",
       "    <tr>\n",
       "      <th>...</th>\n",
       "      <td>...</td>\n",
       "      <td>...</td>\n",
       "    </tr>\n",
       "    <tr>\n",
       "      <th>89180</th>\n",
       "      <td>25-34 years old</td>\n",
       "      <td>Brazil</td>\n",
       "    </tr>\n",
       "    <tr>\n",
       "      <th>89181</th>\n",
       "      <td>18-24 years old</td>\n",
       "      <td>Romania</td>\n",
       "    </tr>\n",
       "    <tr>\n",
       "      <th>89182</th>\n",
       "      <td>Prefer not to say</td>\n",
       "      <td>Israel</td>\n",
       "    </tr>\n",
       "    <tr>\n",
       "      <th>89183</th>\n",
       "      <td>Under 18 years old</td>\n",
       "      <td>Switzerland</td>\n",
       "    </tr>\n",
       "    <tr>\n",
       "      <th>89184</th>\n",
       "      <td>35-44 years old</td>\n",
       "      <td>Iran, Islamic Republic of...</td>\n",
       "    </tr>\n",
       "  </tbody>\n",
       "</table>\n",
       "<p>89184 rows × 2 columns</p>\n",
       "</div>"
      ],
      "text/plain": [
       "                           Age                       Country\n",
       "ResponseId                                                  \n",
       "1              18-24 years old                           NaN\n",
       "2              25-34 years old      United States of America\n",
       "3              45-54 years old      United States of America\n",
       "4              25-34 years old      United States of America\n",
       "5              25-34 years old                   Philippines\n",
       "...                        ...                           ...\n",
       "89180          25-34 years old                        Brazil\n",
       "89181          18-24 years old                       Romania\n",
       "89182        Prefer not to say                        Israel\n",
       "89183       Under 18 years old                   Switzerland\n",
       "89184          35-44 years old  Iran, Islamic Republic of...\n",
       "\n",
       "[89184 rows x 2 columns]"
      ]
     },
     "execution_count": 5,
     "metadata": {},
     "output_type": "execute_result"
    }
   ],
   "source": [
    "#Accessing the ccolumns\n",
    "\n",
    "df[['Age','Country']]"
   ]
  },
  {
   "cell_type": "code",
   "execution_count": 6,
   "id": "128d4765",
   "metadata": {},
   "outputs": [
    {
     "data": {
      "text/html": [
       "<div>\n",
       "<style scoped>\n",
       "    .dataframe tbody tr th:only-of-type {\n",
       "        vertical-align: middle;\n",
       "    }\n",
       "\n",
       "    .dataframe tbody tr th {\n",
       "        vertical-align: top;\n",
       "    }\n",
       "\n",
       "    .dataframe thead th {\n",
       "        text-align: right;\n",
       "    }\n",
       "</style>\n",
       "<table border=\"1\" class=\"dataframe\">\n",
       "  <thead>\n",
       "    <tr style=\"text-align: right;\">\n",
       "      <th></th>\n",
       "      <th>MainBranch</th>\n",
       "      <th>Age</th>\n",
       "    </tr>\n",
       "    <tr>\n",
       "      <th>ResponseId</th>\n",
       "      <th></th>\n",
       "      <th></th>\n",
       "    </tr>\n",
       "  </thead>\n",
       "  <tbody>\n",
       "    <tr>\n",
       "      <th>1</th>\n",
       "      <td>None of these</td>\n",
       "      <td>18-24 years old</td>\n",
       "    </tr>\n",
       "    <tr>\n",
       "      <th>2</th>\n",
       "      <td>I am a developer by profession</td>\n",
       "      <td>25-34 years old</td>\n",
       "    </tr>\n",
       "  </tbody>\n",
       "</table>\n",
       "</div>"
      ],
      "text/plain": [
       "                                MainBranch              Age\n",
       "ResponseId                                                 \n",
       "1                            None of these  18-24 years old\n",
       "2           I am a developer by profession  25-34 years old"
      ]
     },
     "execution_count": 6,
     "metadata": {},
     "output_type": "execute_result"
    }
   ],
   "source": [
    "#Accessing the rows with iloc\n",
    "\n",
    "#df.iloc[0]\n",
    "df.iloc[[0,1],[1,2]]"
   ]
  },
  {
   "cell_type": "code",
   "execution_count": 15,
   "id": "a24259c0",
   "metadata": {
    "scrolled": true
   },
   "outputs": [
    {
     "data": {
      "text/html": [
       "<div>\n",
       "<style scoped>\n",
       "    .dataframe tbody tr th:only-of-type {\n",
       "        vertical-align: middle;\n",
       "    }\n",
       "\n",
       "    .dataframe tbody tr th {\n",
       "        vertical-align: top;\n",
       "    }\n",
       "\n",
       "    .dataframe thead th {\n",
       "        text-align: right;\n",
       "    }\n",
       "</style>\n",
       "<table border=\"1\" class=\"dataframe\">\n",
       "  <thead>\n",
       "    <tr style=\"text-align: right;\">\n",
       "      <th></th>\n",
       "      <th>Country</th>\n",
       "      <th>Age</th>\n",
       "    </tr>\n",
       "    <tr>\n",
       "      <th>ResponseId</th>\n",
       "      <th></th>\n",
       "      <th></th>\n",
       "    </tr>\n",
       "  </thead>\n",
       "  <tbody>\n",
       "    <tr>\n",
       "      <th>1</th>\n",
       "      <td>NaN</td>\n",
       "      <td>18-24 years old</td>\n",
       "    </tr>\n",
       "    <tr>\n",
       "      <th>2</th>\n",
       "      <td>United States of America</td>\n",
       "      <td>25-34 years old</td>\n",
       "    </tr>\n",
       "  </tbody>\n",
       "</table>\n",
       "</div>"
      ],
      "text/plain": [
       "                             Country              Age\n",
       "ResponseId                                           \n",
       "1                                NaN  18-24 years old\n",
       "2           United States of America  25-34 years old"
      ]
     },
     "execution_count": 15,
     "metadata": {},
     "output_type": "execute_result"
    }
   ],
   "source": [
    "#Accessing the rows with loc\n",
    "\n",
    "df.loc[[1,2],['Country','Age']]"
   ]
  },
  {
   "cell_type": "code",
   "execution_count": null,
   "id": "bd6e889a",
   "metadata": {},
   "outputs": [],
   "source": [
    "df['Employment']"
   ]
  },
  {
   "cell_type": "code",
   "execution_count": null,
   "id": "b2fe6ea1",
   "metadata": {},
   "outputs": [],
   "source": [
    "#we can use slicing to select a range instead of giving them in braces\n",
    "\n",
    "df.loc[0:8,'Employment':'Country']"
   ]
  },
  {
   "cell_type": "code",
   "execution_count": null,
   "id": "03270b85",
   "metadata": {},
   "outputs": [],
   "source": [
    "#df.index\n",
    "df_schema.index\n"
   ]
  },
  {
   "cell_type": "code",
   "execution_count": null,
   "id": "115d3a6c",
   "metadata": {},
   "outputs": [],
   "source": [
    "df_schema.loc['QID279','question']"
   ]
  },
  {
   "cell_type": "code",
   "execution_count": null,
   "id": "55c7562c",
   "metadata": {},
   "outputs": [],
   "source": [
    "#we can also sort the indexes\n",
    "# Inplace statement make sure that the changes are permanent\n",
    "\n",
    "df_schema.sort_index(inplace=True)"
   ]
  },
  {
   "cell_type": "code",
   "execution_count": null,
   "id": "c49a27f8",
   "metadata": {},
   "outputs": [],
   "source": [
    "df_schema\n",
    "#df"
   ]
  },
  {
   "cell_type": "code",
   "execution_count": null,
   "id": "a03858c8",
   "metadata": {},
   "outputs": [],
   "source": [
    "##   To filter the data \n",
    "\n",
    "high_salary=(df['ConvertedCompYearly']>50000)\n",
    "df.loc[high_salary,['Country','TechList','ConvertedCompYearly']]"
   ]
  },
  {
   "cell_type": "code",
   "execution_count": null,
   "id": "5d3edacc",
   "metadata": {
    "scrolled": true
   },
   "outputs": [],
   "source": [
    "# sorting values based on columns\n",
    "\n",
    "df_sorted=df.sort_values(by='Country')\n",
    "df_sorted['Country']"
   ]
  },
  {
   "cell_type": "code",
   "execution_count": null,
   "id": "58e123aa",
   "metadata": {
    "scrolled": true
   },
   "outputs": [],
   "source": [
    "# filtering based on a list\n",
    "df_sorted"
   ]
  },
  {
   "cell_type": "code",
   "execution_count": null,
   "id": "0f00a003",
   "metadata": {},
   "outputs": [],
   "source": [
    "#Filtering can be done on a list as well\n",
    "\n",
    "countries=['India','France','Germany']\n",
    "filt_list=df['Country'].isin(countries)\n",
    "df.loc[filt,'Country']\n"
   ]
  },
  {
   "cell_type": "code",
   "execution_count": null,
   "id": "48b33efd",
   "metadata": {},
   "outputs": [],
   "source": [
    "#filtering based on a substring\n",
    "\n",
    "#df['LanguageHaveWorkedWith'].unique()\n",
    "filt_string=df['LanguageHaveWorkedWith'].str.contains('Python',na=False)\n",
    "df.loc[filt_string,'LanguageHaveWorkedWith']\n"
   ]
  },
  {
   "cell_type": "code",
   "execution_count": 13,
   "id": "e932bd08",
   "metadata": {},
   "outputs": [
    {
     "data": {
      "text/plain": [
       "ResponseId\n",
       "1             NaN\n",
       "2        285000.0\n",
       "3        250000.0\n",
       "4        156000.0\n",
       "5         23456.0\n",
       "           ...   \n",
       "89180         NaN\n",
       "89181         NaN\n",
       "89182         NaN\n",
       "89183         NaN\n",
       "89184         NaN\n",
       "Name: Salary, Length: 89184, dtype: float64"
      ]
     },
     "execution_count": 13,
     "metadata": {},
     "output_type": "execute_result"
    }
   ],
   "source": [
    "#Changing the name of a column\n",
    "\n",
    "df.rename(columns={'ConvertedCompYearly':'Salary'},inplace=True)\n",
    "df['Salary']"
   ]
  },
  {
   "cell_type": "code",
   "execution_count": 21,
   "id": "3f1c9b18",
   "metadata": {},
   "outputs": [
    {
     "data": {
      "text/plain": [
       "ResponseId\n",
       "1              NaN\n",
       "2        4560100.0\n",
       "3        4000100.0\n",
       "4        2496100.0\n",
       "5         375396.0\n",
       "           ...    \n",
       "89180          NaN\n",
       "89181          NaN\n",
       "89182          NaN\n",
       "89183          NaN\n",
       "89184          NaN\n",
       "Name: Salary, Length: 89184, dtype: float64"
      ]
     },
     "execution_count": 21,
     "metadata": {},
     "output_type": "execute_result"
    }
   ],
   "source": [
    "#changing values in rows\n",
    "\n",
    "# This shows how apply work on series objects\n",
    "\n",
    "df['Salary']=df['Salary'].apply(lambda x: x+100)\n",
    "df['Salary']"
   ]
  },
  {
   "cell_type": "code",
   "execution_count": 24,
   "id": "3108005e",
   "metadata": {
    "collapsed": true,
    "jupyter": {
     "outputs_hidden": true
    }
   },
   "outputs": [
    {
     "ename": "TypeError",
     "evalue": "object of type 'float' has no len()",
     "output_type": "error",
     "traceback": [
      "\u001b[1;31m---------------------------------------------------------------------------\u001b[0m",
      "\u001b[1;31mTypeError\u001b[0m                                 Traceback (most recent call last)",
      "Cell \u001b[1;32mIn[24], line 3\u001b[0m\n\u001b[0;32m      1\u001b[0m \u001b[38;5;66;03m# This shows how applymap work on dataframe\u001b[39;00m\n\u001b[1;32m----> 3\u001b[0m df\u001b[38;5;241m.\u001b[39mapplymap(\u001b[38;5;28mlen\u001b[39m)\n",
      "File \u001b[1;32m~\\anaconda3\\Lib\\site-packages\\pandas\\core\\frame.py:9508\u001b[0m, in \u001b[0;36mDataFrame.applymap\u001b[1;34m(self, func, na_action, **kwargs)\u001b[0m\n\u001b[0;32m   9505\u001b[0m         \u001b[38;5;28;01mreturn\u001b[39;00m lib\u001b[38;5;241m.\u001b[39mmap_infer(x, func, ignore_na\u001b[38;5;241m=\u001b[39mignore_na)\n\u001b[0;32m   9506\u001b[0m     \u001b[38;5;28;01mreturn\u001b[39;00m lib\u001b[38;5;241m.\u001b[39mmap_infer(x\u001b[38;5;241m.\u001b[39mastype(\u001b[38;5;28mobject\u001b[39m)\u001b[38;5;241m.\u001b[39m_values, func, ignore_na\u001b[38;5;241m=\u001b[39mignore_na)\n\u001b[1;32m-> 9508\u001b[0m \u001b[38;5;28;01mreturn\u001b[39;00m \u001b[38;5;28mself\u001b[39m\u001b[38;5;241m.\u001b[39mapply(infer)\u001b[38;5;241m.\u001b[39m__finalize__(\u001b[38;5;28mself\u001b[39m, \u001b[38;5;124m\"\u001b[39m\u001b[38;5;124mapplymap\u001b[39m\u001b[38;5;124m\"\u001b[39m)\n",
      "File \u001b[1;32m~\\anaconda3\\Lib\\site-packages\\pandas\\core\\frame.py:9423\u001b[0m, in \u001b[0;36mDataFrame.apply\u001b[1;34m(self, func, axis, raw, result_type, args, **kwargs)\u001b[0m\n\u001b[0;32m   9412\u001b[0m \u001b[38;5;28;01mfrom\u001b[39;00m \u001b[38;5;21;01mpandas\u001b[39;00m\u001b[38;5;21;01m.\u001b[39;00m\u001b[38;5;21;01mcore\u001b[39;00m\u001b[38;5;21;01m.\u001b[39;00m\u001b[38;5;21;01mapply\u001b[39;00m \u001b[38;5;28;01mimport\u001b[39;00m frame_apply\n\u001b[0;32m   9414\u001b[0m op \u001b[38;5;241m=\u001b[39m frame_apply(\n\u001b[0;32m   9415\u001b[0m     \u001b[38;5;28mself\u001b[39m,\n\u001b[0;32m   9416\u001b[0m     func\u001b[38;5;241m=\u001b[39mfunc,\n\u001b[1;32m   (...)\u001b[0m\n\u001b[0;32m   9421\u001b[0m     kwargs\u001b[38;5;241m=\u001b[39mkwargs,\n\u001b[0;32m   9422\u001b[0m )\n\u001b[1;32m-> 9423\u001b[0m \u001b[38;5;28;01mreturn\u001b[39;00m op\u001b[38;5;241m.\u001b[39mapply()\u001b[38;5;241m.\u001b[39m__finalize__(\u001b[38;5;28mself\u001b[39m, method\u001b[38;5;241m=\u001b[39m\u001b[38;5;124m\"\u001b[39m\u001b[38;5;124mapply\u001b[39m\u001b[38;5;124m\"\u001b[39m)\n",
      "File \u001b[1;32m~\\anaconda3\\Lib\\site-packages\\pandas\\core\\apply.py:678\u001b[0m, in \u001b[0;36mFrameApply.apply\u001b[1;34m(self)\u001b[0m\n\u001b[0;32m    675\u001b[0m \u001b[38;5;28;01melif\u001b[39;00m \u001b[38;5;28mself\u001b[39m\u001b[38;5;241m.\u001b[39mraw:\n\u001b[0;32m    676\u001b[0m     \u001b[38;5;28;01mreturn\u001b[39;00m \u001b[38;5;28mself\u001b[39m\u001b[38;5;241m.\u001b[39mapply_raw()\n\u001b[1;32m--> 678\u001b[0m \u001b[38;5;28;01mreturn\u001b[39;00m \u001b[38;5;28mself\u001b[39m\u001b[38;5;241m.\u001b[39mapply_standard()\n",
      "File \u001b[1;32m~\\anaconda3\\Lib\\site-packages\\pandas\\core\\apply.py:798\u001b[0m, in \u001b[0;36mFrameApply.apply_standard\u001b[1;34m(self)\u001b[0m\n\u001b[0;32m    797\u001b[0m \u001b[38;5;28;01mdef\u001b[39;00m \u001b[38;5;21mapply_standard\u001b[39m(\u001b[38;5;28mself\u001b[39m):\n\u001b[1;32m--> 798\u001b[0m     results, res_index \u001b[38;5;241m=\u001b[39m \u001b[38;5;28mself\u001b[39m\u001b[38;5;241m.\u001b[39mapply_series_generator()\n\u001b[0;32m    800\u001b[0m     \u001b[38;5;66;03m# wrap results\u001b[39;00m\n\u001b[0;32m    801\u001b[0m     \u001b[38;5;28;01mreturn\u001b[39;00m \u001b[38;5;28mself\u001b[39m\u001b[38;5;241m.\u001b[39mwrap_results(results, res_index)\n",
      "File \u001b[1;32m~\\anaconda3\\Lib\\site-packages\\pandas\\core\\apply.py:814\u001b[0m, in \u001b[0;36mFrameApply.apply_series_generator\u001b[1;34m(self)\u001b[0m\n\u001b[0;32m    811\u001b[0m \u001b[38;5;28;01mwith\u001b[39;00m option_context(\u001b[38;5;124m\"\u001b[39m\u001b[38;5;124mmode.chained_assignment\u001b[39m\u001b[38;5;124m\"\u001b[39m, \u001b[38;5;28;01mNone\u001b[39;00m):\n\u001b[0;32m    812\u001b[0m     \u001b[38;5;28;01mfor\u001b[39;00m i, v \u001b[38;5;129;01min\u001b[39;00m \u001b[38;5;28menumerate\u001b[39m(series_gen):\n\u001b[0;32m    813\u001b[0m         \u001b[38;5;66;03m# ignore SettingWithCopy here in case the user mutates\u001b[39;00m\n\u001b[1;32m--> 814\u001b[0m         results[i] \u001b[38;5;241m=\u001b[39m \u001b[38;5;28mself\u001b[39m\u001b[38;5;241m.\u001b[39mf(v)\n\u001b[0;32m    815\u001b[0m         \u001b[38;5;28;01mif\u001b[39;00m \u001b[38;5;28misinstance\u001b[39m(results[i], ABCSeries):\n\u001b[0;32m    816\u001b[0m             \u001b[38;5;66;03m# If we have a view on v, we need to make a copy because\u001b[39;00m\n\u001b[0;32m    817\u001b[0m             \u001b[38;5;66;03m#  series_generator will swap out the underlying data\u001b[39;00m\n\u001b[0;32m    818\u001b[0m             results[i] \u001b[38;5;241m=\u001b[39m results[i]\u001b[38;5;241m.\u001b[39mcopy(deep\u001b[38;5;241m=\u001b[39m\u001b[38;5;28;01mFalse\u001b[39;00m)\n",
      "File \u001b[1;32m~\\anaconda3\\Lib\\site-packages\\pandas\\core\\frame.py:9506\u001b[0m, in \u001b[0;36mDataFrame.applymap.<locals>.infer\u001b[1;34m(x)\u001b[0m\n\u001b[0;32m   9504\u001b[0m \u001b[38;5;28;01mif\u001b[39;00m x\u001b[38;5;241m.\u001b[39mempty:\n\u001b[0;32m   9505\u001b[0m     \u001b[38;5;28;01mreturn\u001b[39;00m lib\u001b[38;5;241m.\u001b[39mmap_infer(x, func, ignore_na\u001b[38;5;241m=\u001b[39mignore_na)\n\u001b[1;32m-> 9506\u001b[0m \u001b[38;5;28;01mreturn\u001b[39;00m lib\u001b[38;5;241m.\u001b[39mmap_infer(x\u001b[38;5;241m.\u001b[39mastype(\u001b[38;5;28mobject\u001b[39m)\u001b[38;5;241m.\u001b[39m_values, func, ignore_na\u001b[38;5;241m=\u001b[39mignore_na)\n",
      "File \u001b[1;32m~\\anaconda3\\Lib\\site-packages\\pandas\\_libs\\lib.pyx:2834\u001b[0m, in \u001b[0;36mpandas._libs.lib.map_infer\u001b[1;34m()\u001b[0m\n",
      "\u001b[1;31mTypeError\u001b[0m: object of type 'float' has no len()"
     ]
    }
   ],
   "source": [
    "# This shows how applymap work on dataframe\n",
    "\n",
    "df.applymap(len)\n",
    "\n",
    "# applymap is used to work with datframes while apply is used for series objects\n",
    "# this will give a error as also have float values in dataset"
   ]
  },
  {
   "cell_type": "code",
   "execution_count": 39,
   "id": "17b1640c",
   "metadata": {},
   "outputs": [
    {
     "data": {
      "text/plain": [
       "ResponseId\n",
       "1                                    NaN\n",
       "2                                  Other\n",
       "3                                    NaN\n",
       "4                                    NaN\n",
       "5                   Other;Codecademy;edX\n",
       "                      ...               \n",
       "89180                              Udemy\n",
       "89181                                NaN\n",
       "89182                Codecademy;Coursera\n",
       "89183                              Udemy\n",
       "89184    Codecademy;Pluralsight;Coursera\n",
       "Name: LearnCodeCoursesCert, Length: 89184, dtype: object"
      ]
     },
     "execution_count": 39,
     "metadata": {},
     "output_type": "execute_result"
    }
   ],
   "source": [
    "# This show how to work with replace in series\n",
    "\n",
    "df['LearnCodeCoursesCert'].replace({'NaN':'Books'})"
   ]
  },
  {
   "cell_type": "code",
   "execution_count": 36,
   "id": "ebf73ca3",
   "metadata": {
    "collapsed": true,
    "jupyter": {
     "outputs_hidden": true
    }
   },
   "outputs": [
    {
     "data": {
      "text/plain": [
       "ResponseId\n",
       "1                                    NaN\n",
       "2                                  Other\n",
       "3                                    NaN\n",
       "4                                    NaN\n",
       "5                   Other;Codecademy;edX\n",
       "                      ...               \n",
       "89180                              Udemy\n",
       "89181                                NaN\n",
       "89182                Codecademy;Coursera\n",
       "89183                              Udemy\n",
       "89184    Codecademy;Pluralsight;Coursera\n",
       "Name: LearnCodeCoursesCert, Length: 89184, dtype: object"
      ]
     },
     "execution_count": 36,
     "metadata": {},
     "output_type": "execute_result"
    }
   ],
   "source": []
  },
  {
   "cell_type": "code",
   "execution_count": null,
   "id": "a75f3586",
   "metadata": {},
   "outputs": [],
   "source": []
  },
  {
   "cell_type": "code",
   "execution_count": null,
   "id": "b8758f48",
   "metadata": {},
   "outputs": [],
   "source": []
  }
 ],
 "metadata": {
  "kernelspec": {
   "display_name": "Python 3 (ipykernel)",
   "language": "python",
   "name": "python3"
  },
  "language_info": {
   "codemirror_mode": {
    "name": "ipython",
    "version": 3
   },
   "file_extension": ".py",
   "mimetype": "text/x-python",
   "name": "python",
   "nbconvert_exporter": "python",
   "pygments_lexer": "ipython3",
   "version": "3.10.0"
  }
 },
 "nbformat": 4,
 "nbformat_minor": 5
}
